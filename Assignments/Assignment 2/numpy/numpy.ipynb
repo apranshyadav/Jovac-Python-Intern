{
 "cells": [
  {
   "cell_type": "code",
   "execution_count": 1,
   "id": "e616cd6e",
   "metadata": {},
   "outputs": [],
   "source": [
    "import numpy as np"
   ]
  },
  {
   "cell_type": "markdown",
   "id": "99da200e",
   "metadata": {},
   "source": [
    "Task 1: Creating Arrays\n",
    "1. Write a Python program to: \n",
    "    o Create a 1D NumPy array of 10 integers ranging from 1 to 10.\n",
    "    o Create a 2D NumPy array of shape (3, 3) with integers from 1 to 9.\n",
    "    o Create a 3D NumPy array with random floating-point numbers of shape (3, 5, 3).\n",
    "2. Display the shape, size, and datatype of each array."
   ]
  },
  {
   "cell_type": "code",
   "execution_count": 2,
   "id": "158e937c",
   "metadata": {},
   "outputs": [
    {
     "name": "stdout",
     "output_type": "stream",
     "text": [
      "[ 1  2  3  4  5  6  7  8  9 10] <class 'numpy.ndarray'> (10,) 10 int32\n",
      "----------------------------------------\n",
      "[[5 1 9]\n",
      " [2 3 2]\n",
      " [4 6 7]] <class 'numpy.ndarray'> (3, 3) 9 int32\n",
      "----------------------------------------\n",
      "[[[0.58596651 0.68306462 0.81885709]\n",
      "  [0.94918868 0.55053741 0.88965277]\n",
      "  [0.65851719 0.72690881 0.68109264]\n",
      "  [0.34635391 0.34111542 0.39804689]\n",
      "  [0.59001183 0.75127798 0.44651796]]\n",
      "\n",
      " [[0.9045708  0.17526859 0.35162873]\n",
      "  [0.74502128 0.61632807 0.02568618]\n",
      "  [0.25250874 0.55626229 0.24962137]\n",
      "  [0.99338693 0.66788968 0.48546989]\n",
      "  [0.89551749 0.39680994 0.76854622]]\n",
      "\n",
      " [[0.6015399  0.50105138 0.97717105]\n",
      "  [0.482597   0.76523359 0.12544379]\n",
      "  [0.45779396 0.8458716  0.51222368]\n",
      "  [0.21268004 0.25628771 0.99131636]\n",
      "  [0.88332903 0.11139138 0.78733568]]] <class 'numpy.ndarray'> (3, 5, 3) 45 float64\n",
      "----------------------------------------\n"
     ]
    }
   ],
   "source": [
    "OneD_Array = np.arange(1,11)\n",
    "print(OneD_Array, type(OneD_Array), OneD_Array.shape, OneD_Array.size, OneD_Array.dtype)\n",
    "print(\"-\"*40)\n",
    "\n",
    "\n",
    "TwoD_Array = np.random.randint(1, 10, size=(3,3))\n",
    "print(TwoD_Array, type(TwoD_Array), TwoD_Array.shape, TwoD_Array.size, TwoD_Array.dtype)\n",
    "print(\"-\"*40)\n",
    "\n",
    "\n",
    "ThreeD_Array = np.random.rand(3,5,3)\n",
    "print(ThreeD_Array, type(ThreeD_Array), ThreeD_Array.shape, ThreeD_Array.size, ThreeD_Array.dtype)\n",
    "print(\"-\"*40)"
   ]
  },
  {
   "cell_type": "markdown",
   "id": "0181f7ca",
   "metadata": {},
   "source": [
    "Task 2: Array Indexing and Slicing\n",
    "1. Create a NumPy array from the following list: \n",
    "    data = [10, 20, 30, 40, 50, 60, 70, 80, 90]\n",
    "2. Write a Python program to: \n",
    "    o Retrieve the first three elements of the array.\n",
    "    o Retrieve every alternate element of the array.\n",
    "    o Reverse the array.\n",
    "3. Perform the above operations and display the results."
   ]
  },
  {
   "cell_type": "code",
   "execution_count": 3,
   "id": "8b2e5dd2",
   "metadata": {},
   "outputs": [
    {
     "name": "stdout",
     "output_type": "stream",
     "text": [
      "[10 20 30 40 50 60 70 80 90] <class 'numpy.ndarray'>\n",
      "[10 20 30]\n",
      "[10 30 50 70 90]\n",
      "[90 80 70 60 50 40 30 20 10]\n"
     ]
    }
   ],
   "source": [
    "data = [10, 20, 30, 40, 50, 60, 70, 80, 90] \n",
    "arr = np.array(data)\n",
    "print(arr, type(arr))\n",
    "\n",
    "first_3_elements = arr[:3]\n",
    "print(first_3_elements)\n",
    "\n",
    "alternate_elements = arr[::2]\n",
    "print(alternate_elements)\n",
    "\n",
    "reverse_elements = arr[::-1]\n",
    "print(reverse_elements)"
   ]
  },
  {
   "cell_type": "markdown",
   "id": "0279298b",
   "metadata": {},
   "source": [
    "Task 3: Mathematical Operations\n",
    "1. Create two NumPy arrays, A and B, each with 5 random integers \n",
    "between 1 and 20.\n",
    "2. Write a Python program to: \n",
    "    o Add, subtract, multiply, and divide the two arrays element-wise.\n",
    "    o Compute the dot product of the arrays.\n",
    "    o Find the mean, median, standard deviation, and variance of array A.\n",
    "    o Identify the maximum and minimum values in array B and their indices.\n"
   ]
  },
  {
   "cell_type": "code",
   "execution_count": 4,
   "id": "0a3a5f61",
   "metadata": {},
   "outputs": [
    {
     "name": "stdout",
     "output_type": "stream",
     "text": [
      "Addition :  [ 9 28 14 29 24]\n",
      "Subtraction :  [  1   4 -10  -9  -4]\n",
      "Multiplication :  [ 20 192  24 190 140]\n",
      "Division :  [1.25       1.33333333 0.16666667 0.52631579 0.71428571]\n",
      "Dot product :  566\n",
      "Mean :  8.6\n",
      "Median :  10.0\n",
      "Standard Deviation: 4.80\n",
      "Variance : 23.04\n",
      "Min Element :  4\n",
      "Min Element index:  0\n",
      "Max Element :  19\n",
      "Max Element index:  3\n"
     ]
    }
   ],
   "source": [
    "A = np.random.randint(1, 20, size=(5))\n",
    "B = np.random.randint(1, 20, size=(5))\n",
    "\n",
    "add = A + B\n",
    "print('Addition : ',add)\n",
    "\n",
    "subtract = A - B\n",
    "print('Subtraction : ',subtract)\n",
    "\n",
    "multiply = A * B\n",
    "print('Multiplication : ',multiply)\n",
    "\n",
    "divide = A / B\n",
    "print('Division : ',divide)\n",
    "\n",
    "\n",
    "\n",
    "dot_product = np.dot(A, B)\n",
    "print('Dot product : ', dot_product)\n",
    "\n",
    "mean = A.mean()\n",
    "print('Mean : ',mean)\n",
    "\n",
    "median = np.median(A)\n",
    "print('Median : ',median)\n",
    "\n",
    "std_deviation = np.std(A)\n",
    "print(f\"Standard Deviation: {std_deviation:.2f}\")\n",
    "\n",
    "\n",
    "variance = std_deviation ** 2\n",
    "print(f\"Variance : {variance:.2f}\")\n",
    "\n",
    "\n",
    "min = np.min(B)\n",
    "min_index = np.argmin(B)\n",
    "print(\"Min Element : \", min)\n",
    "print(\"Min Element index: \", min_index)\n",
    "\n",
    "\n",
    "max = np.max(B)\n",
    "max_index = np.argmax(B)\n",
    "print(\"Max Element : \", max)\n",
    "print(\"Max Element index: \", max_index)"
   ]
  },
  {
   "cell_type": "markdown",
   "id": "4dd46ee7",
   "metadata": {},
   "source": [
    "Task 4: Reshaping and Transposing\n",
    "1. Create a 1D NumPy array of 12 integers ranging from 1 to 12.\n",
    "2. Write a Python program to: \n",
    "o Reshape the array into a 2D array of shape (4, 3).\n",
    "o Reshape the array into a 3D array of shape (2, 2, 3).\n",
    "o Transpose the reshaped 2D array and display its shape."
   ]
  },
  {
   "cell_type": "code",
   "execution_count": 6,
   "id": "259cd978",
   "metadata": {},
   "outputs": [
    {
     "name": "stdout",
     "output_type": "stream",
     "text": [
      "[ 1  2  3  4  5  6  7  8  9 10 11 12] <class 'numpy.ndarray'>\n",
      "Reshape (4 x 3) : \n",
      "[[ 1  2  3]\n",
      " [ 4  5  6]\n",
      " [ 7  8  9]\n",
      " [10 11 12]]\n",
      "----------------------------------------\n",
      "Reshape (2 x 2 x 3) : \n",
      "[[[ 1  2  3]\n",
      "  [ 4  5  6]]\n",
      "\n",
      " [[ 7  8  9]\n",
      "  [10 11 12]]]\n",
      "----------------------------------------\n",
      "Transpose Matrix : \n",
      "[[ 1  4  7 10]\n",
      " [ 2  5  8 11]\n",
      " [ 3  6  9 12]]\n"
     ]
    }
   ],
   "source": [
    "arr1 = np.arange(1, 13)\n",
    "print(arr1, type(arr1))\n",
    "\n",
    "\n",
    "print(\"Reshape (4 x 3) : \")\n",
    "print(arr1.reshape(4,3))\n",
    "\n",
    "\n",
    "print(\"-\"*40)\n",
    "print(\"Reshape (2 x 2 x 3) : \")\n",
    "print(arr1.reshape(2,2,3))\n",
    "\n",
    "print(\"-\"*40)\n",
    "\n",
    "\n",
    "print(\"Transpose Matrix : \")\n",
    "two_d = arr1.reshape(4,3)\n",
    "\n",
    "transpose_2D = two_d.transpose()\n",
    "print(transpose_2D)"
   ]
  },
  {
   "cell_type": "markdown",
   "id": "ecb677d8",
   "metadata": {},
   "source": [
    "Task 5: Boolean Masking and Filtering\n",
    "1. Create a NumPy array with 15 random integers between 10 and 50.\n",
    "2. Write a Python program to: \n",
    "o Find all elements greater than 25.\n",
    "o Replace all elements less than 30 with 0.\n",
    "o Count the number of elements divisible by 5."
   ]
  },
  {
   "cell_type": "code",
   "execution_count": 7,
   "id": "ebfcb00d",
   "metadata": {},
   "outputs": [
    {
     "name": "stdout",
     "output_type": "stream",
     "text": [
      "[31 44 41 10 48 10 15 16 41 33 41 41 37 44 47]\n",
      "----------------------------------------\n",
      "[31 44 41 48 41 33 41 41 37 44 47]\n",
      "----------------------------------------\n",
      "[31 44 41  0 48  0  0  0 41 33 41 41 37 44 47]\n",
      "----------------------------------------\n",
      "4\n"
     ]
    }
   ],
   "source": [
    "arr1 = np.random.randint(10, 50, 15 )\n",
    "print(arr1)\n",
    "print(\"-\"*40)\n",
    "\n",
    "\n",
    "greater_than_25 = arr1[arr1 > 25]\n",
    "print(greater_than_25)\n",
    "print(\"-\"*40)\n",
    "\n",
    "\n",
    "arr1[arr1 < 30] = 0\n",
    "print(arr1)\n",
    "print(\"-\"*40)\n",
    "\n",
    "div_by_5 = arr1[arr1 % 5 == 0]\n",
    "count = len(div_by_5)\n",
    "print(count)"
   ]
  },
  {
   "cell_type": "markdown",
   "id": "e7005aba",
   "metadata": {},
   "source": [
    "Task 6: Working with Built-in Functions\n",
    "1. Use NumPy's built-in functions to: \n",
    "o Create an array of 10 equally spaced values between 0 and 1.\n",
    "o Create an identity matrix of size 4x4.\n",
    "o Generate a 1D array of 20 random integers between 1 and 100, \n",
    "sort it, and find the 5 largest elements."
   ]
  },
  {
   "cell_type": "code",
   "execution_count": 8,
   "id": "ab825890",
   "metadata": {},
   "outputs": [
    {
     "name": "stdout",
     "output_type": "stream",
     "text": [
      "[0.         0.11111111 0.22222222 0.33333333 0.44444444 0.55555556\n",
      " 0.66666667 0.77777778 0.88888889 1.        ]\n",
      "-----------------------------------\n",
      "Identity Matrix\n",
      "-----------------------------------\n",
      "[[1 0 0 0]\n",
      " [0 1 0 0]\n",
      " [0 0 1 0]\n",
      " [0 0 0 1]]\n",
      "-----------------------------------\n",
      "Original Array :  [63 53 51 48 87 37 49  5 82 95 74 43 18 76 88 36 68  2 87  3]\n",
      "-----------------------------------\n",
      "Sorted Array :  [ 2  3  5 18 36 37 43 48 49 51 53 63 68 74 76 82 87 87 88 95]\n",
      "-----------------------------------\n",
      "Largest 5 element in array :  [82 87 87 88 95]\n",
      "-----------------------------------\n"
     ]
    }
   ],
   "source": [
    "arr1 = np.linspace(0,1,10)\n",
    "print(arr1)\n",
    "print('-'*35)\n",
    "\n",
    "print('Identity Matrix')\n",
    "print('-'*35)\n",
    "print(np.eye(4, dtype=int))\n",
    "\n",
    "print('-'*35)\n",
    "\n",
    "one_D = np.random.randint(1, 100, 20)\n",
    "print(\"Original Array : \",one_D)\n",
    "print('-'*35)\n",
    "sortArr = np.sort(one_D)\n",
    "print(\"Sorted Array : \",sortArr)\n",
    "print('-'*35)\n",
    "\n",
    "print(\"Largest 5 element in array : \",sortArr[-5:])\n",
    "print('-'*35)"
   ]
  },
  {
   "cell_type": "markdown",
   "id": "d40ab5ad",
   "metadata": {},
   "source": [
    "Task 7: Generic\n",
    "1. Create a Python program that: \n",
    "o Generates two large random arrays of size (100, 100).\n",
    "o Performs matrix multiplication on the two arrays.\n",
    "o Finds the determinant and inverse of the resulting matrix (if \n",
    "possible).\n",
    "o Measures the time taken to complete these operations.\n"
   ]
  },
  {
   "cell_type": "code",
   "execution_count": 10,
   "id": "70f119a8",
   "metadata": {},
   "outputs": [
    {
     "name": "stdout",
     "output_type": "stream",
     "text": [
      "Inverse Matrix:\n",
      " [[-1.32022846e+00  2.25209706e-01 -1.96249695e+00 ...  7.96427841e+00\n",
      "   7.83660539e-01  2.31650593e+00]\n",
      " [ 4.90989610e-01 -6.73123041e-01  2.27623806e+00 ... -7.44725730e+00\n",
      "  -3.42953518e+00 -2.21319435e+00]\n",
      " [-1.90877675e+00 -5.95613106e-01 -2.38041971e+00 ...  3.28930733e+00\n",
      "   6.68496429e-01  2.20692526e-01]\n",
      " ...\n",
      " [-4.78152334e+00  1.53159261e+00 -1.08839472e+01 ...  3.33985232e+01\n",
      "   1.01543064e+01  9.54130361e+00]\n",
      " [ 2.31396222e+00 -2.54439459e-02  3.24362576e+00 ... -1.13188835e+01\n",
      "  -2.19314564e+00 -3.41354924e+00]\n",
      " [ 3.21660843e-01 -5.95654111e-01  2.63178501e+00 ... -6.34220191e+00\n",
      "  -3.28796812e+00 -1.72204769e+00]]\n",
      "-----------------------------------\n",
      "Determinant: -2.8522238880056235e+50\n",
      "-----------------------------------\n",
      "Time taken: 0.16768193244934082 seconds\n",
      "-----------------------------------\n"
     ]
    }
   ],
   "source": [
    "import numpy as np\n",
    "import time\n",
    "\n",
    "A = np.random.rand(100, 100)\n",
    "B = np.random.rand(100, 100)\n",
    "\n",
    "start = time.time()\n",
    "\n",
    "C = np.dot(A, B)\n",
    "dete = np.linalg.det(C)\n",
    "\n",
    "if not np.isclose(dete, 0):\n",
    "    inv = np.linalg.inv(C)\n",
    "    print(\"Inverse Matrix:\\n\", inv)\n",
    "else:\n",
    "    print(\"Matrix is not invertible\")\n",
    "print('-'*35)\n",
    "end = time.time()\n",
    "print(\"Determinant:\", dete)\n",
    "print('-'*35)\n",
    "print(\"Time taken:\", end - start, \"seconds\")\n",
    "print('-'*35)"
   ]
  }
 ],
 "metadata": {
  "kernelspec": {
   "display_name": "Python 3",
   "language": "python",
   "name": "python3"
  },
  "language_info": {
   "codemirror_mode": {
    "name": "ipython",
    "version": 3
   },
   "file_extension": ".py",
   "mimetype": "text/x-python",
   "name": "python",
   "nbconvert_exporter": "python",
   "pygments_lexer": "ipython3",
   "version": "3.10.4"
  }
 },
 "nbformat": 4,
 "nbformat_minor": 5
}
