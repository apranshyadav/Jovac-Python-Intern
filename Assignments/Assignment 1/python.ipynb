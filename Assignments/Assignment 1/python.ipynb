{
 "cells": [
  {
   "cell_type": "markdown",
   "id": "dbb39c60",
   "metadata": {},
   "source": [
    "1. Make a custom exception\n",
    "2. Make a 2-d array and read and write it in a csv format"
   ]
  },
  {
   "cell_type": "code",
   "execution_count": 2,
   "id": "b75b9895",
   "metadata": {},
   "outputs": [
    {
     "name": "stdout",
     "output_type": "stream",
     "text": [
      "Caught Custom Exception: Deposit amount cannot be negative!\n"
     ]
    }
   ],
   "source": [
    "class NegativeDepositError(Exception):\n",
    "    pass\n",
    "\n",
    "amount = float(input(\"Enter the amount you want to deposit: \"))\n",
    "\n",
    "try:\n",
    "    if amount < 0:\n",
    "        raise NegativeDepositError(\"Deposit amount cannot be negative!\")\n",
    "    else:\n",
    "        print(f\"₹{amount} deposited successfully!\")\n",
    "\n",
    "except NegativeDepositError as e:\n",
    "    print(\"Caught Custom Exception:\", e)"
   ]
  },
  {
   "cell_type": "code",
   "execution_count": null,
   "id": "767908cd",
   "metadata": {},
   "outputs": [
    {
     "name": "stdout",
     "output_type": "stream",
     "text": [
      "Data write successfull'\n",
      "2D Array read from CSV file\n",
      "[[100 200 300]\n",
      " [400 500 600]\n",
      " [700 800 900]]\n"
     ]
    }
   ],
   "source": [
    "import numpy as np\n",
    "import csv\n",
    "\n",
    "ar = np.array([\n",
    "    [100, 200, 300],\n",
    "    [400, 500, 600],\n",
    "    [700, 800, 900]\n",
    "])\n",
    " \n",
    "with open(\"my_arr.csv\", \"w\", newline=\"\") as f:\n",
    "    writer = csv.writer(f)\n",
    "    writer.writerows(ar)\n",
    "print(\"Data write successfull...\")\n",
    "\n",
    "with open(\"my_arr.csv\", \"r\") as f:\n",
    "    reader = csv.reader(f)\n",
    "    loaded_array = np.array([[int(value) for value in row] for row in reader])\n",
    "\n",
    "print(\"2D Array read from CSV file\")\n",
    "print(loaded_array)"
   ]
  }
 ],
 "metadata": {
  "kernelspec": {
   "display_name": "Python 3",
   "language": "python",
   "name": "python3"
  },
  "language_info": {
   "codemirror_mode": {
    "name": "ipython",
    "version": 3
   },
   "file_extension": ".py",
   "mimetype": "text/x-python",
   "name": "python",
   "nbconvert_exporter": "python",
   "pygments_lexer": "ipython3",
   "version": "3.10.4"
  }
 },
 "nbformat": 4,
 "nbformat_minor": 5
}
